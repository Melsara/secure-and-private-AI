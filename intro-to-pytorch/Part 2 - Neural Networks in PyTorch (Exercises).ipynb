{
 "cells": [
  {
   "cell_type": "markdown",
   "metadata": {},
   "source": [
    "# Neural networks with PyTorch\n",
    "\n",
    "Deep learning networks tend to be massive with dozens or hundreds of layers, that's where the term \"deep\" comes from. You can build one of these deep networks using only weight matrices as we did in the previous notebook, but in general it's very cumbersome and difficult to implement. PyTorch has a nice module `nn` that provides a nice way to efficiently build large neural networks."
   ]
  },
  {
   "cell_type": "code",
   "execution_count": 1,
   "metadata": {},
   "outputs": [],
   "source": [
    "# Import necessary packages\n",
    "\n",
    "%matplotlib inline\n",
    "%config InlineBackend.figure_format = 'retina'\n",
    "\n",
    "import numpy as np\n",
    "import torch\n",
    "\n",
    "import helper\n",
    "\n",
    "import matplotlib.pyplot as plt"
   ]
  },
  {
   "cell_type": "markdown",
   "metadata": {},
   "source": [
    "\n",
    "Now we're going to build a larger network that can solve a (formerly) difficult problem, identifying text in an image. Here we'll use the MNIST dataset which consists of greyscale handwritten digits. Each image is 28x28 pixels, you can see a sample below\n",
    "\n",
    "<img src='assets/mnist.png'>\n",
    "\n",
    "Our goal is to build a neural network that can take one of these images and predict the digit in the image.\n",
    "\n",
    "First up, we need to get our dataset. This is provided through the `torchvision` package. The code below will download the MNIST dataset, then create training and test datasets for us. Don't worry too much about the details here, you'll learn more about this later."
   ]
  },
  {
   "cell_type": "code",
   "execution_count": 2,
   "metadata": {},
   "outputs": [],
   "source": [
    "### Run this cell\n",
    "\n",
    "from torchvision import datasets, transforms\n",
    "\n",
    "# Define a transform to normalize the data\n",
    "transform = transforms.Compose([transforms.ToTensor(),\n",
    "                              transforms.Normalize((0.5,), (0.5,)),\n",
    "                              ])\n",
    "\n",
    "# Download and load the training data\n",
    "trainset = datasets.MNIST('~/.pytorch/MNIST_data/', download=True, train=True, transform=transform)\n",
    "trainloader = torch.utils.data.DataLoader(trainset, batch_size=64, shuffle=True)"
   ]
  },
  {
   "cell_type": "markdown",
   "metadata": {},
   "source": [
    "We have the training data loaded into `trainloader` and we make that an iterator with `iter(trainloader)`. Later, we'll use this to loop through the dataset for training, like\n",
    "\n",
    "```python\n",
    "for image, label in trainloader:\n",
    "    ## do things with images and labels\n",
    "```\n",
    "\n",
    "You'll notice I created the `trainloader` with a batch size of 64, and `shuffle=True`. The batch size is the number of images we get in one iteration from the data loader and pass through our network, often called a *batch*. And `shuffle=True` tells it to shuffle the dataset every time we start going through the data loader again. But here I'm just grabbing the first batch so we can check out the data. We can see below that `images` is just a tensor with size `(64, 1, 28, 28)`. So, 64 images per batch, 1 color channel, and 28x28 images."
   ]
  },
  {
   "cell_type": "code",
   "execution_count": 27,
   "metadata": {},
   "outputs": [
    {
     "name": "stdout",
     "output_type": "stream",
     "text": [
      "<class 'torch.Tensor'>\n",
      "torch.Size([64, 1, 28, 28])\n",
      "torch.Size([64])\n"
     ]
    }
   ],
   "source": [
    "dataiter = iter(trainloader)\n",
    "images, labels = dataiter.next()\n",
    "print(type(images))\n",
    "print(images.shape)\n",
    "print(labels.shape)"
   ]
  },
  {
   "cell_type": "markdown",
   "metadata": {},
   "source": [
    "This is what one of the images looks like. "
   ]
  },
  {
   "cell_type": "code",
   "execution_count": 28,
   "metadata": {},
   "outputs": [
    {
     "data": {
      "image/png": "[encoded data removed]",
      "text/plain": [
       "<matplotlib.figure.Figure at 0x7ff5d4a15208>"
      ]
     },
     "metadata": {
      "image/png": {
       "height": 250,
       "width": 253
      },
      "needs_background": "light"
     },
     "output_type": "display_data"
    }
   ],
   "source": [
    "plt.imshow(images[1].numpy().squeeze(), cmap='Greys_r');"
   ]
  },
  {
   "cell_type": "markdown",
   "metadata": {},
   "source": [
    "First, let's try to build a simple network for this dataset using weight matrices and matrix multiplications. Then, we'll see how to do it using PyTorch's `nn` module which provides a much more convenient and powerful method for defining network architectures.\n",
    "\n",
    "The networks you've seen so far are called *fully-connected* or *dense* networks. Each unit in one layer is connected to each unit in the next layer. In fully-connected networks, the input to each layer must be a one-dimensional vector (which can be stacked into a 2D tensor as a batch of multiple examples). However, our images are 28x28 2D tensors, so we need to convert them into 1D vectors. Thinking about sizes, we need to convert the batch of images with shape `(64, 1, 28, 28)` to a have a shape of `(64, 784)`, 784 is 28 times 28. This is typically called *flattening*, we flattened the 2D images into 1D vectors.\n",
    "\n",
    "Previously you built a network with one output unit. Here we need 10 output units, one for each digit. We want our network to predict the digit shown in an image, so what we'll do is calculate probabilities that the image is of any one digit or class. This ends up being a discrete probability distribution over the classes (digits) that tells us the most likely class for the image. That means we need 10 output units for the 10 classes (digits). We'll see how to convert the network output into a probability distribution next.\n",
    "\n",
    "> **Exercise:** Flatten the batch of images `images`. Then build a multi-layer network with 784 input units, 256 hidden units, and 10 output units using random tensors for the weights and biases. For now, use a sigmoid activation for the hidden layer. Leave the output layer without an activation, we'll add one that gives us a probability distribution next."
   ]
  },
  {
   "cell_type": "code",
   "execution_count": 29,
   "metadata": {},
   "outputs": [
    {
     "name": "stdout",
     "output_type": "stream",
     "text": [
      "tensor([[ -8.8188,  -9.2844,  10.8729,   9.4542,  -3.8170,  -3.7817,\n",
      "          -8.5212, -15.8443, -19.6521, -11.5991],\n",
      "        [-19.3856, -10.7741,   5.6933,  11.9004,   0.0871,  -7.5144,\n",
      "          -4.0926,  -6.4423, -13.9151,  -7.7884],\n",
      "        [-14.4758,  -1.6507,  -7.7378,  13.3410,  -0.6863,   4.0516,\n",
      "         -16.0121, -22.5833, -19.6109, -25.3956],\n",
      "        [ -7.1534,  -4.3629,   6.7908,   5.1778,  -7.3993,   6.0053,\n",
      "           5.1207,  -6.8594, -20.1952, -11.2065],\n",
      "        [-16.8839,  -5.4897,   9.6517,  14.6196,   0.5871,  -1.4632,\n",
      "          -0.7086, -18.2866, -21.7278,  -9.8930],\n",
      "        [-25.7995,  -5.2661,   3.6781,   9.3524,  -2.7679,   1.3002,\n",
      "          -5.6318,  -1.9853, -13.6457, -16.0535],\n",
      "        [-15.8192,  -6.4297,   4.5289,   3.8898,   0.6699, -10.1453,\n",
      "          -6.3066, -13.6448, -31.9148,  -2.8759],\n",
      "        [ -5.2039,  -5.8324,  -3.6453,  14.6472,  -5.9598,  -8.6436,\n",
      "          -3.7301,  -9.5873, -28.8036, -17.0255],\n",
      "        [-15.4829,   1.3462,  10.9500,  15.0595,  -5.1008,  -0.6320,\n",
      "           5.0157, -13.8155, -24.1803, -10.6361],\n",
      "        [ -8.6442,  -8.2918,  -4.0724,   7.4600,   6.3372,  -3.0372,\n",
      "          -1.5677,  -7.7151, -18.6334, -15.2458],\n",
      "        [-10.1113,  -5.4139,   6.3128,   2.5891, -10.8221,   0.0026,\n",
      "          -9.9590,  -8.5153, -23.9830,  -7.3787],\n",
      "        [-17.8969,  10.4094,   2.5506,   7.0004,   2.3156,  -5.2910,\n",
      "           2.9694, -13.0196, -20.2863, -11.2543],\n",
      "        [-13.4497,  -3.4387,   3.1077,   6.2005,  -5.0572,  -3.8073,\n",
      "          -9.0245, -16.7709, -34.3736,  -8.0304],\n",
      "        [ -8.0008,  -3.0265,   5.2809,   0.7304,  -0.8531,  -2.8686,\n",
      "          -5.4515,  -0.9297, -23.9630,  -8.5367],\n",
      "        [-10.9498,  -3.2126,   4.2506,  -4.0114,  -1.0069,   0.4037,\n",
      "         -12.0060, -23.1098, -25.8324, -11.3256],\n",
      "        [-11.3998,   3.5630,   4.8977,  12.2500,  -4.6293,   3.5267,\n",
      "           2.2394,  -3.6361, -20.0648,  -9.5227],\n",
      "        [-10.8585,  -2.9090,  17.7009,  10.8661,   0.5265,  -1.2221,\n",
      "          -8.4001, -17.7496, -21.2489, -13.7529],\n",
      "        [ -2.6441,  -6.6092,  13.3740,   8.3115, -14.2941, -11.7561,\n",
      "           2.7881,  -7.2595, -26.5085, -11.3474],\n",
      "        [-15.1051,  -7.1793,   8.8411,   7.6391,  -5.8414,  -3.2175,\n",
      "         -11.1997, -12.6732, -23.1098, -18.5170],\n",
      "        [-10.4084,   5.0186,  14.1167,   9.5830,  -9.1564,   6.0878,\n",
      "          -0.4844, -11.0957, -18.9839, -11.8851],\n",
      "        [-16.7243,  -3.7261,  13.9225,  13.8840,  -2.3961,  -9.2239,\n",
      "          -6.0291, -22.4585, -27.8477,  -6.3555],\n",
      "        [-11.9115, -11.2104,   7.3638,  17.7198,  -1.3318, -16.4072,\n",
      "          -2.6339,  -7.1997, -29.3204,  -3.5855],\n",
      "        [-16.5713,  -6.8020,   5.9762,   1.2359,   1.3718,   3.3600,\n",
      "           3.9273,  -8.6160, -10.2960,  -5.5178],\n",
      "        [-25.3730,  -9.7536,   6.8120,   5.0008,   5.7937,  -5.8095,\n",
      "          -3.3595, -10.1790, -26.2461,  -7.9106],\n",
      "        [-17.6800,   2.1396,   3.5070,  10.8626,  -9.0963,  -3.9777,\n",
      "          -0.8763, -11.2382, -21.6686,  -7.9138],\n",
      "        [-10.9014,   2.0397,  -0.3798,   9.4818,  -4.1963, -14.6196,\n",
      "           2.0564, -12.8770, -12.3500, -12.3467],\n",
      "        [-11.1627,  -8.5808,  11.6950,   9.1236,  -4.4584,   6.9817,\n",
      "          -7.1214, -16.8301, -14.7077,  -7.7626],\n",
      "        [-12.2034, -11.6178,  -2.1985,   3.7840,   1.4273,   0.4543,\n",
      "          -2.7999,  -5.4850, -20.8374, -14.0480],\n",
      "        [ -8.5356, -10.8154,  10.8679,   6.8641, -10.8604,  -2.4572,\n",
      "          -3.0180,  -6.4543, -16.2346, -12.9838],\n",
      "        [-10.6604,  -8.3792,  11.2989,  14.2071, -16.2097, -12.4356,\n",
      "          -7.0090, -17.5954, -23.1434, -15.2629],\n",
      "        [-13.0784,  -2.5969,   1.9889,  -0.6647,   3.2732,  -4.5550,\n",
      "           2.7749, -11.8055, -16.4754,  -9.7803],\n",
      "        [-11.8506,   5.0994,   8.4996,   8.2137,   0.4339,  -5.1464,\n",
      "          -3.6792, -16.7190, -18.3318,  -8.3472],\n",
      "        [-17.5789,  -3.2779,   9.2613,   1.6657,  -1.1316,   2.1425,\n",
      "          -2.8064, -11.0921, -16.8691,  -9.0141],\n",
      "        [-15.7422, -11.0950,   4.0785,   5.5811,  -6.0436,   3.8829,\n",
      "         -11.0720, -13.8024, -17.4984, -14.8766],\n",
      "        [-21.2471,  -6.4297,   4.7228,   3.5413,   1.7192,   3.2976,\n",
      "           2.9502,  -3.7514, -16.0858, -11.4795],\n",
      "        [ -6.9526, -14.8166,   6.5930,   6.7352,   3.6651,  -1.3162,\n",
      "           6.4698,  -5.7022, -23.6087, -16.8838],\n",
      "        [ -2.3565,  -1.2746,   7.1962,   7.4299, -14.7602,   3.1149,\n",
      "          -4.9090,  -4.6455, -18.2701,  -5.2797],\n",
      "        [ -3.7219, -17.6871,   4.8754,   1.9596,  -8.5212,  -0.2760,\n",
      "          -7.9696,  -3.5880, -21.3130,  -9.1967],\n",
      "        [-16.8524,  -1.4869,   6.7903,  12.0623,  -4.6765,  -3.1557,\n",
      "           7.0767, -17.4630, -17.3664, -18.9886],\n",
      "        [ -7.7756,  -2.0850,  14.1007,   3.7795, -11.4696,  -1.3026,\n",
      "          -8.7846,  -1.4075, -16.3698, -13.0413],\n",
      "        [-13.5225,  -6.0879,  10.5232,   8.4839,  -1.4898,  -7.9716,\n",
      "           4.8550,  -1.1064, -22.0933,  -3.8802],\n",
      "        [-17.6146,  -3.8192,  -3.7466,  21.8166,   1.9600,  -7.1332,\n",
      "          -3.3559,  -5.1669, -12.9078,   5.6957],\n",
      "        [-19.3582, -12.3698,  -2.0565,   9.1751,   7.0798,   1.7547,\n",
      "          -2.5575,  -9.4030, -19.0767,  -7.4013],\n",
      "        [-21.9460, -11.6516,  -1.1452,   7.4984,   1.9344,   3.3044,\n",
      "           5.0441, -12.0262, -10.3375,  -6.6937],\n",
      "        [-16.7440,  -7.5528,  10.1375,   1.4241,  -1.8817,  -6.6734,\n",
      "         -14.4700, -19.2786, -24.1550, -11.9898],\n",
      "        [-13.4583,  -8.9849,   5.3469,   5.6468,  -4.7951,   4.8148,\n",
      "          -6.3729, -12.4335, -20.9132, -15.9082],\n",
      "        [ -5.8486,  -7.6767,   9.4986,  12.9910,  -3.9523,  -2.4861,\n",
      "          -3.5117,   0.1175, -28.4894, -15.9410],\n",
      "        [-18.2810, -15.7157,   1.7413,  15.3936,   6.2675,  -7.6339,\n",
      "           3.7450, -12.9083, -25.1735,   4.2622],\n",
      "        [-17.6355,  -1.0467,   6.1653,  11.5856,  -6.8860,  -8.9380,\n",
      "           1.9598, -18.3104, -21.7917,  -9.3742],\n",
      "        [ -9.2667, -11.7751,   7.2390,   6.6596,  -3.7982,   4.7682,\n",
      "         -14.4844,  -9.5314, -16.9252,  -9.0761],\n",
      "        [ -4.6572, -11.4361,   4.9263,   0.0384,  -9.0596,   1.7767,\n",
      "         -11.7432, -10.9428, -23.6987,  -3.9343],\n",
      "        [-13.0989,   1.2467,   6.6345,  13.5186,  -7.3383,  -4.0829,\n",
      "           4.0793, -14.2274, -17.4861, -12.1068],\n",
      "        [-10.5291,  -7.0526,   3.9056,   5.8716, -11.2831,   5.6999,\n",
      "          -6.4681,  -1.6493, -12.8094,  -9.8683],\n",
      "        [-15.1872,  -8.0259,   1.7277,   1.6066, -10.0007,  -6.7377,\n",
      "         -16.6320, -14.4441, -30.3216, -14.6246],\n",
      "        [-12.9424, -14.4652,   6.1056,   4.8385,  -3.1722,   2.2449,\n",
      "          -2.1079, -16.6949, -16.1857, -12.2659],\n",
      "        [-13.5556, -13.3084,   7.3671,   6.5450,  -2.0810,  -4.9531,\n",
      "          -0.9237,  -1.2394, -16.5260,  -8.2464],\n",
      "        [-20.1155,   2.4761,   4.1249,   9.9636,   1.9022,  -1.7686,\n",
      "          -4.1183, -15.4213, -26.4735, -15.2663],\n",
      "        [ -3.9566,   8.1280,   1.3986,  10.1716,   1.3641,  -5.4239,\n",
      "          -9.7869, -15.9743, -25.1678, -15.1373],\n",
      "        [-19.0173,   0.9904,  -0.6144,  10.7721,   4.9109,  -1.3216,\n",
      "          -0.8752, -18.3522, -23.7383, -10.8182],\n",
      "        [ -4.3677,  -9.7568,   5.1130,  12.1970,  -7.6655,   2.6007,\n",
      "          -9.2605,  -8.7402, -28.4867,  -4.4643],\n",
      "        [ -9.8417,  -5.1681,  -3.7969,   4.8418,   3.4644,  -5.9637,\n",
      "          10.4707,  -2.7230, -16.3635, -20.9839],\n",
      "        [-22.3288,  -7.3118,   2.9314,  14.1686,  -1.6006,   6.9980,\n",
      "           1.7049,  -0.3922, -16.1777,  -6.1061],\n",
      "        [-12.8735, -11.0442,  -0.9560,  13.7091,  -1.9322,   0.2619,\n",
      "         -10.6698, -18.0519, -21.0609, -18.6991],\n",
      "        [-13.1748,   0.5081,   0.1204,   7.0690,   0.2028,  -2.0168,\n",
      "           1.5199, -11.0600, -28.0056, -14.5141]])\n",
      "torch.Size([64, 10])\n"
     ]
    }
   ],
   "source": [
    "## Your solution\n",
    "def activation(x):\n",
    "    return 1/(1+torch.exp(-x))\n",
    "\n",
    "inputs = images.view(images.shape[0], -1)\n",
    "\n",
    "# first layer: w1 = torch.randn(n_inputs, n_hidden), b1 = torch.randn(n_hidden)\n",
    "# second layer: w2 = torch.randn(n_hidden, n_output), b2 = torch.randn(n_output)\n",
    "\n",
    "w1 = torch.randn(784, 256)\n",
    "b1 = torch.randn(256)\n",
    "\n",
    "w2 = torch.randn(256, 10)\n",
    "b2 = torch.randn(10)\n",
    "\n",
    "h = activation(torch.mm(inputs, w1) + b1)\n",
    "\n",
    "out = torch.mm(h, w2) +b2\n",
    "print(out)\n",
    "print(out.shape)"
   ]
  },
  {
   "cell_type": "markdown",
   "metadata": {},
   "source": [
    "Now we have 10 outputs for our network. We want to pass in an image to our network and get out a probability distribution over the classes that tells us the likely class(es) the image belongs to. Something that looks like this:\n",
    "<img src='assets/image_distribution.png' width=500px>\n",
    "\n",
    "Here we see that the probability for each class is roughly the same. This is representing an untrained network, it hasn't seen any data yet so it just returns a uniform distribution with equal probabilities for each class.\n",
    "\n",
    "To calculate this probability distribution, we often use the [**softmax** function](https://en.wikipedia.org/wiki/Softmax_function). Mathematically this looks like\n",
    "\n",
    "$$\n",
    "\\Large \\sigma(x_i) = \\cfrac{e^{x_i}}{\\sum_k^K{e^{x_k}}}\n",
    "$$\n",
    "\n",
    "What this does is squish each input $x_i$ between 0 and 1 and normalizes the values to give you a proper probability distribution where the probabilites sum up to one.\n",
    "\n",
    "> **Exercise:** Implement a function `softmax` that performs the softmax calculation and returns probability distributions for each example in the batch. Note that you'll need to pay attention to the shapes when doing this. If you have a tensor `a` with shape `(64, 10)` and a tensor `b` with shape `(64,)`, doing `a/b` will give you an error because PyTorch will try to do the division across the columns (called broadcasting) but you'll get a size mismatch. The way to think about this is for each of the 64 examples, you only want to divide by one value, the sum in the denominator. So you need `b` to have a shape of `(64, 1)`. This way PyTorch will divide the 10 values in each row of `a` by the one value in each row of `b`. Pay attention to how you take the sum as well. You'll need to define the `dim` keyword in `torch.sum`. Setting `dim=0` takes the sum across the rows while `dim=1` takes the sum across the columns."
   ]
  },
  {
   "cell_type": "code",
   "execution_count": 30,
   "metadata": {},
   "outputs": [
    {
     "name": "stdout",
     "output_type": "stream",
     "text": [
      "torch.Size([64, 10])\n",
      "tensor([ 1.0000,  1.0000,  1.0000,  1.0000,  1.0000,  1.0000,  1.0000,\n",
      "         1.0000,  1.0000,  1.0000,  1.0000,  1.0000,  1.0000,  1.0000,\n",
      "         1.0000,  1.0000,  1.0000,  1.0000,  1.0000,  1.0000,  1.0000,\n",
      "         1.0000,  1.0000,  1.0000,  1.0000,  1.0000,  1.0000,  1.0000,\n",
      "         1.0000,  1.0000,  1.0000,  1.0000,  1.0000,  1.0000,  1.0000,\n",
      "         1.0000,  1.0000,  1.0000,  1.0000,  1.0000,  1.0000,  1.0000,\n",
      "         1.0000,  1.0000,  1.0000,  1.0000,  1.0000,  1.0000,  1.0000,\n",
      "         1.0000,  1.0000,  1.0000,  1.0000,  1.0000,  1.0000,  1.0000,\n",
      "         1.0000,  1.0000,  1.0000,  1.0000,  1.0000,  1.0000,  1.0000,\n",
      "         1.0000])\n"
     ]
    }
   ],
   "source": [
    "def softmax(x):\n",
    "    ## TODO: Implement the softmax function here\n",
    "    return torch.exp(x)/torch.sum(torch.exp(x), dim = 1).view(-1, 1)\n",
    "\n",
    "# Here, out should be the output of the network in the previous excercise with shape (64,10)\n",
    "probabilities = softmax(out)\n",
    "\n",
    "# Does it have the right shape? Should be (64, 10)\n",
    "print(probabilities.shape)\n",
    "# Does it sum to 1?\n",
    "print(probabilities.sum(dim=1))"
   ]
  },
  {
   "cell_type": "markdown",
   "metadata": {},
   "source": [
    "## Building networks with PyTorch\n",
    "\n",
    "PyTorch provides a module `nn` that makes building networks much simpler. Here I'll show you how to build the same one as above with 784 inputs, 256 hidden units, 10 output units and a softmax output."
   ]
  },
  {
   "cell_type": "code",
   "execution_count": 31,
   "metadata": {},
   "outputs": [],
   "source": [
    "from torch import nn"
   ]
  },
  {
   "cell_type": "code",
   "execution_count": 32,
   "metadata": {},
   "outputs": [],
   "source": [
    "class Network(nn.Module):\n",
    "    def __init__(self):\n",
    "        super().__init__()\n",
    "        \n",
    "        # Inputs to hidden layer linear transformation\n",
    "        self.hidden = nn.Linear(784, 256)\n",
    "        # Output layer, 10 units - one for each digit\n",
    "        self.output = nn.Linear(256, 10)\n",
    "        \n",
    "        # Define sigmoid activation and softmax output \n",
    "        self.sigmoid = nn.Sigmoid()\n",
    "        self.softmax = nn.Softmax(dim=1)\n",
    "        \n",
    "    def forward(self, x):\n",
    "        # Pass the input tensor through each of our operations\n",
    "        x = self.hidden(x)\n",
    "        x = self.sigmoid(x)\n",
    "        x = self.output(x)\n",
    "        x = self.softmax(x)\n",
    "        \n",
    "        return x"
   ]
  },
  {
   "cell_type": "markdown",
   "metadata": {},
   "source": [
    "Let's go through this bit by bit.\n",
    "\n",
    "```python\n",
    "class Network(nn.Module):\n",
    "```\n",
    "\n",
    "Here we're inheriting from `nn.Module`. Combined with `super().__init__()` this creates a class that tracks the architecture and provides a lot of useful methods and attributes. It is mandatory to inherit from `nn.Module` when you're creating a class for your network. The name of the class itself can be anything.\n",
    "\n",
    "```python\n",
    "self.hidden = nn.Linear(784, 256)\n",
    "```\n",
    "\n",
    "This line creates a module for a linear transformation, $x\\mathbf{W} + b$, with 784 inputs and 256 outputs and assigns it to `self.hidden`. The module automatically creates the weight and bias tensors which we'll use in the `forward` method. You can access the weight and bias tensors once the network (`net`) is created with `net.hidden.weight` and `net.hidden.bias`.\n",
    "\n",
    "```python\n",
    "self.output = nn.Linear(256, 10)\n",
    "```\n",
    "\n",
    "Similarly, this creates another linear transformation with 256 inputs and 10 outputs.\n",
    "\n",
    "```python\n",
    "self.sigmoid = nn.Sigmoid()\n",
    "self.softmax = nn.Softmax(dim=1)\n",
    "```\n",
    "\n",
    "Here I defined operations for the sigmoid activation and softmax output. Setting `dim=1` in `nn.Softmax(dim=1)` calculates softmax across the columns.\n",
    "\n",
    "```python\n",
    "def forward(self, x):\n",
    "```\n",
    "\n",
    "PyTorch networks created with `nn.Module` must have a `forward` method defined. It takes in a tensor `x` and passes it through the operations you defined in the `__init__` method.\n",
    "\n",
    "```python\n",
    "x = self.hidden(x)\n",
    "x = self.sigmoid(x)\n",
    "x = self.output(x)\n",
    "x = self.softmax(x)\n",
    "```\n",
    "\n",
    "Here the input tensor `x` is passed through each operation a reassigned to `x`. We can see that the input tensor goes through the hidden layer, then a sigmoid function, then the output layer, and finally the softmax function. It doesn't matter what you name the variables here, as long as the inputs and outputs of the operations match the network architecture you want to build. The order in which you define things in the `__init__` method doesn't matter, but you'll need to sequence the operations correctly in the `forward` method.\n",
    "\n",
    "Now we can create a `Network` object."
   ]
  },
  {
   "cell_type": "code",
   "execution_count": 33,
   "metadata": {},
   "outputs": [
    {
     "data": {
      "text/plain": [
       "Network(\n",
       "  (hidden): Linear(in_features=784, out_features=256, bias=True)\n",
       "  (output): Linear(in_features=256, out_features=10, bias=True)\n",
       "  (sigmoid): Sigmoid()\n",
       "  (softmax): Softmax()\n",
       ")"
      ]
     },
     "execution_count": 33,
     "metadata": {},
     "output_type": "execute_result"
    }
   ],
   "source": [
    "# Create the network and look at it's text representation\n",
    "model = Network()\n",
    "model"
   ]
  },
  {
   "cell_type": "markdown",
   "metadata": {},
   "source": [
    "You can define the network somewhat more concisely and clearly using the `torch.nn.functional` module. This is the most common way you'll see networks defined as many operations are simple element-wise functions. We normally import this module as `F`, `import torch.nn.functional as F`."
   ]
  },
  {
   "cell_type": "code",
   "execution_count": 34,
   "metadata": {},
   "outputs": [],
   "source": [
    "import torch.nn.functional as F\n",
    "\n",
    "class Network(nn.Module):\n",
    "    def __init__(self):\n",
    "        super().__init__()\n",
    "        # Inputs to hidden layer linear transformation\n",
    "        self.hidden = nn.Linear(784, 256)\n",
    "        # Output layer, 10 units - one for each digit\n",
    "        self.output = nn.Linear(256, 10)\n",
    "        \n",
    "    def forward(self, x):\n",
    "        # Hidden layer with sigmoid activation\n",
    "        x = F.sigmoid(self.hidden(x))\n",
    "        # Output layer with softmax activation\n",
    "        x = F.softmax(self.output(x), dim=1)\n",
    "        \n",
    "        return x"
   ]
  },
  {
   "cell_type": "markdown",
   "metadata": {},
   "source": [
    "### Activation functions\n",
    "\n",
    "So far we've only been looking at the softmax activation, but in general any function can be used as an activation function. The only requirement is that for a network to approximate a non-linear function, the activation functions must be non-linear. Here are a few more examples of common activation functions: Tanh (hyperbolic tangent), and ReLU (rectified linear unit).\n",
    "\n",
    "<img src=\"assets/activation.png\" width=700px>\n",
    "\n",
    "In practice, the ReLU function is used almost exclusively as the activation function for hidden layers."
   ]
  },
  {
   "cell_type": "markdown",
   "metadata": {},
   "source": [
    "### Your Turn to Build a Network\n",
    "\n",
    "<img src=\"assets/mlp_mnist.png\" width=600px>\n",
    "\n",
    "> **Exercise:** Create a network with 784 input units, a hidden layer with 128 units and a ReLU activation, then a hidden layer with 64 units and a ReLU activation, and finally an output layer with a softmax activation as shown above. You can use a ReLU activation with the `nn.ReLU` module or `F.relu` function."
   ]
  },
  {
   "cell_type": "code",
   "execution_count": 6,
   "metadata": {
    "scrolled": true
   },
   "outputs": [
    {
     "data": {
      "text/plain": [
       "Network(\n",
       "  (hidden1): Linear(in_features=784, out_features=128, bias=True)\n",
       "  (hidden2): Linear(in_features=128, out_features=64, bias=True)\n",
       "  (output): Linear(in_features=64, out_features=10, bias=True)\n",
       ")"
      ]
     },
     "execution_count": 6,
     "metadata": {},
     "output_type": "execute_result"
    }
   ],
   "source": [
    "from torch import nn\n",
    "import torch.nn.functional as F\n",
    "\n",
    "class Network(nn.Module):\n",
    "    def __init__(self):\n",
    "        super().__init__()\n",
    "        # Inputs to hidden layer linear transformation\n",
    "        self.hidden1 = nn.Linear(784, 128)\n",
    "        self.hidden2 = nn.Linear(128, 64)\n",
    "        # Output layer, 10 units - one for each digit\n",
    "        self.output = nn.Linear(64, 10)\n",
    "        \n",
    "    def forward(self, x):\n",
    "        # Hidden layer with relu activation\n",
    "        x = F.relu(self.hidden1(x))\n",
    "        x = F.relu(self.hidden2(x))\n",
    "        # Output layer with softmax activation\n",
    "        x = F.softmax(self.output(x), dim=1)\n",
    "        \n",
    "        return x\n",
    "model = Network()\n",
    "model\n"
   ]
  },
  {
   "cell_type": "markdown",
   "metadata": {},
   "source": [
    "### Initializing weights and biases\n",
    "\n",
    "The weights and such are automatically initialized for you, but it's possible to customize how they are initialized. The weights and biases are tensors attached to the layer you defined, you can get them with `model.fc1.weight` for instance."
   ]
  },
  {
   "cell_type": "code",
   "execution_count": 15,
   "metadata": {},
   "outputs": [
    {
     "name": "stdout",
     "output_type": "stream",
     "text": [
      "Parameter containing:\n",
      "tensor([[ 1.2750e-02,  3.2564e-02,  2.8988e-02,  ..., -6.5847e-03,\n",
      "          8.8054e-03, -3.5508e-02],\n",
      "        [ 1.6076e-02,  1.4616e-04,  1.9847e-02,  ...,  1.6037e-03,\n",
      "          3.1301e-02,  8.0935e-03],\n",
      "        [-1.1947e-02, -2.8125e-02,  2.6261e-02,  ..., -1.1823e-02,\n",
      "          2.7038e-02,  1.5840e-02],\n",
      "        ...,\n",
      "        [-3.2921e-02,  3.6122e-04,  3.5162e-02,  ...,  3.0660e-02,\n",
      "         -3.2144e-02, -2.9892e-02],\n",
      "        [ 6.7772e-03, -2.5128e-02,  7.5705e-03,  ..., -2.7198e-02,\n",
      "          1.0275e-02, -3.5287e-02],\n",
      "        [-1.8009e-02,  1.3966e-02,  1.4169e-02,  ...,  1.3372e-02,\n",
      "          1.6476e-02, -7.1548e-03]])\n",
      "Parameter containing:\n",
      "tensor(1.00000e-02 *\n",
      "       [-0.8553, -1.4672, -1.5353,  3.4767,  1.8196, -1.9290,  1.8159,\n",
      "         2.2903,  1.4322,  1.6151,  2.6203,  0.5589, -2.2560,  2.6768,\n",
      "        -2.0779, -1.3780,  2.5855,  0.5247, -2.8241,  1.8423, -1.5448,\n",
      "         1.7880, -1.5512,  1.8483, -3.5300,  1.2714, -2.8408, -3.4882,\n",
      "        -1.2396, -3.3072,  3.4022,  1.2219, -0.0404,  0.8598,  3.1052,\n",
      "        -0.6222, -1.6688, -3.1684,  2.1622,  0.4380,  3.3093, -0.2341,\n",
      "         2.4976,  3.0079,  2.2095,  2.9097,  1.5184, -0.5326, -0.4482,\n",
      "         3.5297, -2.0171, -0.7001,  2.3818, -2.5538,  2.7245,  1.7188,\n",
      "        -1.4407,  0.3379, -1.8774, -3.3722, -3.0478, -3.2139, -1.6164,\n",
      "         0.8010,  1.1705, -1.9562,  0.7571,  2.3289,  1.3635, -0.1303,\n",
      "         0.9894, -1.9554,  2.8084, -0.0273, -1.0631, -0.6059, -0.0182,\n",
      "         3.4852, -2.4235,  0.5810, -3.4830,  3.1208,  0.7163, -1.2544,\n",
      "        -1.7553, -3.2237,  3.2485,  1.0646,  1.5653, -0.8277,  1.5319,\n",
      "         3.0725,  1.0243, -1.2598,  0.7803, -0.0049,  2.6638,  0.4309,\n",
      "         2.4889, -2.4639, -2.0454, -1.9152,  0.7911, -2.7291,  0.1601,\n",
      "        -0.7728,  1.7816, -2.0230, -0.3783, -3.1407, -0.5760, -3.2212,\n",
      "         2.6584, -3.2218, -3.1158, -1.3169,  1.9841,  3.0075, -0.2673,\n",
      "         2.4783, -2.2063,  1.5307,  2.8447,  0.2270,  0.9448, -3.1769,\n",
      "         2.9705, -0.9148])\n"
     ]
    }
   ],
   "source": [
    "print(model.hidden1.weight)\n",
    "print(model.hidden1.bias)"
   ]
  },
  {
   "cell_type": "markdown",
   "metadata": {},
   "source": [
    "For custom initialization, we want to modify these tensors in place. These are actually autograd *Variables*, so we need to get back the actual tensors with `model.fc1.weight.data`. Once we have the tensors, we can fill them with zeros (for biases) or random normal values."
   ]
  },
  {
   "cell_type": "code",
   "execution_count": 18,
   "metadata": {},
   "outputs": [
    {
     "data": {
      "text/plain": [
       "tensor([ 0.,  0.,  0.,  0.,  0.,  0.,  0.,  0.,  0.,  0.,  0.,  0.,\n",
       "         0.,  0.,  0.,  0.,  0.,  0.,  0.,  0.,  0.,  0.,  0.,  0.,\n",
       "         0.,  0.,  0.,  0.,  0.,  0.,  0.,  0.,  0.,  0.,  0.,  0.,\n",
       "         0.,  0.,  0.,  0.,  0.,  0.,  0.,  0.,  0.,  0.,  0.,  0.,\n",
       "         0.,  0.,  0.,  0.,  0.,  0.,  0.,  0.,  0.,  0.,  0.,  0.,\n",
       "         0.,  0.,  0.,  0.,  0.,  0.,  0.,  0.,  0.,  0.,  0.,  0.,\n",
       "         0.,  0.,  0.,  0.,  0.,  0.,  0.,  0.,  0.,  0.,  0.,  0.,\n",
       "         0.,  0.,  0.,  0.,  0.,  0.,  0.,  0.,  0.,  0.,  0.,  0.,\n",
       "         0.,  0.,  0.,  0.,  0.,  0.,  0.,  0.,  0.,  0.,  0.,  0.,\n",
       "         0.,  0.,  0.,  0.,  0.,  0.,  0.,  0.,  0.,  0.,  0.,  0.,\n",
       "         0.,  0.,  0.,  0.,  0.,  0.,  0.,  0.])"
      ]
     },
     "execution_count": 18,
     "metadata": {},
     "output_type": "execute_result"
    }
   ],
   "source": [
    "# Set biases to all zeros\n",
    "model.hidden1.bias.data.fill_(0)"
   ]
  },
  {
   "cell_type": "code",
   "execution_count": 19,
   "metadata": {},
   "outputs": [
    {
     "data": {
      "text/plain": [
       "tensor([[-4.5224e-03, -2.5537e-04, -1.3830e-02,  ...,  2.7488e-04,\n",
       "          5.3691e-03,  2.0330e-02],\n",
       "        [-4.1106e-03, -3.8188e-03,  4.4402e-04,  ...,  1.3195e-02,\n",
       "         -1.3973e-02, -1.1352e-03],\n",
       "        [ 3.2676e-03,  1.2473e-02,  2.8161e-02,  ..., -2.0416e-02,\n",
       "         -3.7976e-03,  6.7688e-03],\n",
       "        ...,\n",
       "        [ 4.5914e-03, -9.2544e-03, -1.4096e-02,  ...,  8.6766e-03,\n",
       "          1.3501e-04, -3.3430e-03],\n",
       "        [ 2.9994e-03,  6.3933e-03, -1.6442e-03,  ..., -1.8856e-03,\n",
       "         -8.9480e-03,  4.4044e-04],\n",
       "        [ 1.1849e-02,  1.7383e-03, -2.3217e-02,  ...,  1.5258e-02,\n",
       "          1.4899e-02,  6.5935e-03]])"
      ]
     },
     "execution_count": 19,
     "metadata": {},
     "output_type": "execute_result"
    }
   ],
   "source": [
    "# sample from random normal with standard dev = 0.01\n",
    "model.hidden1.weight.data.normal_(std=0.01)"
   ]
  },
  {
   "cell_type": "markdown",
   "metadata": {},
   "source": [
    "### Forward pass\n",
    "\n",
    "Now that we have a network, let's see what happens when we pass in an image."
   ]
  },
  {
   "cell_type": "code",
   "execution_count": 7,
   "metadata": {},
   "outputs": [
    {
     "data": {
      "image/png": "[encoded data removed]",
      "text/plain": [
       "<matplotlib.figure.Figure at 0x7f7a09c974e0>"
      ]
     },
     "metadata": {
      "image/png": {
       "height": 224,
       "width": 423
      },
      "needs_background": "light"
     },
     "output_type": "display_data"
    }
   ],
   "source": [
    "# Grab some data \n",
    "dataiter = iter(trainloader)\n",
    "images, labels = dataiter.next()\n",
    "\n",
    "# Resize images into a 1D vector, new shape is (batch size, color channels, image pixels) \n",
    "images.resize_(64, 1, 784)\n",
    "# or images.resize_(images.shape[0], 1, 784) to automatically get batch size\n",
    "\n",
    "# Forward pass through the network\n",
    "img_idx = 0\n",
    "ps = model.forward(images[img_idx,:])\n",
    "\n",
    "img = images[img_idx]\n",
    "helper.view_classify(img.view(1, 28, 28), ps)"
   ]
  },
  {
   "cell_type": "markdown",
   "metadata": {},
   "source": [
    "As you can see above, our network has basically no idea what this digit is. It's because we haven't trained it yet, all the weights are random!\n",
    "\n",
    "### Using `nn.Sequential`\n",
    "\n",
    "PyTorch provides a convenient way to build networks like this where a tensor is passed sequentially through operations, `nn.Sequential` ([documentation](https://pytorch.org/docs/master/nn.html#torch.nn.Sequential)). Using this to build the equivalent network:"
   ]
  },
  {
   "cell_type": "code",
   "execution_count": 14,
   "metadata": {},
   "outputs": [
    {
     "name": "stdout",
     "output_type": "stream",
     "text": [
      "Sequential(\n",
      "  (0): Linear(in_features=784, out_features=128, bias=True)\n",
      "  (1): ReLU()\n",
      "  (2): Linear(in_features=128, out_features=64, bias=True)\n",
      "  (3): ReLU()\n",
      "  (4): Linear(in_features=64, out_features=10, bias=True)\n",
      "  (5): Softmax()\n",
      ")\n"
     ]
    },
    {
     "data": {
      "image/png": "[encoded data removed]",
      "text/plain": [
       "<matplotlib.figure.Figure at 0x7f7a04096dd8>"
      ]
     },
     "metadata": {
      "image/png": {
       "height": 224,
       "width": 423
      },
      "needs_background": "light"
     },
     "output_type": "display_data"
    }
   ],
   "source": [
    "# Hyperparameters for our network\n",
    "input_size = 784\n",
    "hidden_sizes = [128, 64]\n",
    "output_size = 10\n",
    "\n",
    "# Build a feed-forward network\n",
    "model = nn.Sequential(nn.Linear(input_size, hidden_sizes[0]),\n",
    "                      nn.ReLU(),\n",
    "                      nn.Linear(hidden_sizes[0], hidden_sizes[1]),\n",
    "                      nn.ReLU(),\n",
    "                      nn.Linear(hidden_sizes[1], output_size),\n",
    "                      nn.Softmax(dim=1))\n",
    "print(model)\n",
    "\n",
    "# Forward pass through the network and display output\n",
    "images, labels = next(iter(trainloader))\n",
    "images.resize_(images.shape[0], 1, 784)\n",
    "ps = model.forward(images[0,:])\n",
    "helper.view_classify(images[0].view(1, 28, 28), ps)"
   ]
  },
  {
   "cell_type": "markdown",
   "metadata": {},
   "source": [
    "Here our model is the same as before: 784 input units, a hidden layer with 128 units, ReLU activation, 64 unit hidden layer, another ReLU, then the output layer with 10 units, and the softmax output.\n",
    "\n",
    "The operations are availble by passing in the appropriate index. For example, if you want to get first Linear operation and look at the weights, you'd use `model[0]`."
   ]
  },
  {
   "cell_type": "code",
   "execution_count": 9,
   "metadata": {},
   "outputs": [
    {
     "name": "stdout",
     "output_type": "stream",
     "text": [
      "Linear(in_features=784, out_features=128, bias=True)\n"
     ]
    },
    {
     "data": {
      "text/plain": [
       "Parameter containing:\n",
       "tensor([[-1.8124e-02, -1.2469e-02,  1.1618e-02,  ...,  8.4504e-03,\n",
       "          3.3581e-02, -1.9862e-02],\n",
       "        [-1.5240e-02,  1.7211e-02,  3.5641e-03,  ...,  2.9767e-02,\n",
       "         -2.3408e-02, -1.0173e-02],\n",
       "        [-2.5224e-02, -2.6836e-02,  2.8883e-02,  ...,  9.6807e-03,\n",
       "         -2.5465e-02,  1.5468e-02],\n",
       "        ...,\n",
       "        [ 1.3353e-02,  2.2717e-02,  3.2319e-02,  ...,  9.6213e-03,\n",
       "         -5.1847e-03,  2.1548e-02],\n",
       "        [ 1.6558e-02, -2.6130e-02, -2.8010e-02,  ..., -1.7871e-02,\n",
       "         -4.8505e-03,  3.4265e-02],\n",
       "        [ 7.2908e-03,  5.8004e-03,  1.9217e-02,  ..., -3.6143e-03,\n",
       "          2.2662e-02, -3.2339e-02]])"
      ]
     },
     "execution_count": 9,
     "metadata": {},
     "output_type": "execute_result"
    }
   ],
   "source": [
    "print(model[0])\n",
    "model[0].weight"
   ]
  },
  {
   "cell_type": "markdown",
   "metadata": {},
   "source": [
    "You can also pass in an `OrderedDict` to name the individual layers and operations, instead of using incremental integers. Note that dictionary keys must be unique, so _each operation must have a different name_."
   ]
  },
  {
   "cell_type": "code",
   "execution_count": 10,
   "metadata": {},
   "outputs": [
    {
     "data": {
      "text/plain": [
       "Sequential(\n",
       "  (fc1): Linear(in_features=784, out_features=128, bias=True)\n",
       "  (relu1): ReLU()\n",
       "  (fc2): Linear(in_features=128, out_features=64, bias=True)\n",
       "  (relu2): ReLU()\n",
       "  (output): Linear(in_features=64, out_features=10, bias=True)\n",
       "  (softmax): Softmax()\n",
       ")"
      ]
     },
     "execution_count": 10,
     "metadata": {},
     "output_type": "execute_result"
    }
   ],
   "source": [
    "from collections import OrderedDict\n",
    "model = nn.Sequential(OrderedDict([\n",
    "                      ('fc1', nn.Linear(input_size, hidden_sizes[0])),\n",
    "                      ('relu1', nn.ReLU()),\n",
    "                      ('fc2', nn.Linear(hidden_sizes[0], hidden_sizes[1])),\n",
    "                      ('relu2', nn.ReLU()),\n",
    "                      ('output', nn.Linear(hidden_sizes[1], output_size)),\n",
    "                      ('softmax', nn.Softmax(dim=1))]))\n",
    "model"
   ]
  },
  {
   "cell_type": "markdown",
   "metadata": {},
   "source": [
    "Now you can access layers either by integer or the name"
   ]
  },
  {
   "cell_type": "code",
   "execution_count": 11,
   "metadata": {},
   "outputs": [
    {
     "name": "stdout",
     "output_type": "stream",
     "text": [
      "Linear(in_features=784, out_features=128, bias=True)\n",
      "Linear(in_features=784, out_features=128, bias=True)\n"
     ]
    }
   ],
   "source": [
    "print(model[0])\n",
    "print(model.fc1)"
   ]
  },
  {
   "cell_type": "markdown",
   "metadata": {},
   "source": [
    "In the next notebook, we'll see how we can train a neural network to accuractly predict the numbers appearing in the MNIST images."
   ]
  }
 ],
 "metadata": {
  "kernelspec": {
   "display_name": "Python 3",
   "language": "python",
   "name": "python3"
  },
  "language_info": {
   "codemirror_mode": {
    "name": "ipython",
    "version": 3
   },
   "file_extension": ".py",
   "mimetype": "text/x-python",
   "name": "python",
   "nbconvert_exporter": "python",
   "pygments_lexer": "ipython3",
   "version": "3.6.3"
  }
 },
 "nbformat": 4,
 "nbformat_minor": 2
}
